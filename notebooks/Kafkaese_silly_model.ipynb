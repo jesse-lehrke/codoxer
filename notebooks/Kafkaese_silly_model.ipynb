{
 "cells": [
  {
   "cell_type": "code",
   "execution_count": null,
   "metadata": {
    "ExecuteTime": {
     "end_time": "2020-08-27T09:56:38.970068Z",
     "start_time": "2020-08-27T09:56:15.704395Z"
    }
   },
   "outputs": [],
   "source": [
    "import pandas as pd\n",
    "yr20_old = pd.read_csv('../codoxer/data/gcj-dataset-master/gcj2020.csv')\n",
    "yr20_one = pd.read_csv('../codoxer/data/oneforone_2020.csv')\n",
    "yr20 = pd.read_csv('../codoxer/data/gcj_data_select.csv')\n",
    "yr20.head()"
   ]
  },
  {
   "cell_type": "code",
   "execution_count": null,
   "metadata": {
    "ExecuteTime": {
     "end_time": "2020-08-27T09:56:38.978531Z",
     "start_time": "2020-08-27T09:56:38.972822Z"
    }
   },
   "outputs": [],
   "source": [
    "yr20.columns"
   ]
  },
  {
   "cell_type": "code",
   "execution_count": null,
   "metadata": {
    "ExecuteTime": {
     "end_time": "2020-08-27T09:56:38.984816Z",
     "start_time": "2020-08-27T09:56:38.982115Z"
    }
   },
   "outputs": [],
   "source": [
    "#df = yr20.drop(columns= ['Unnamed: 0', 'file', 'year'])"
   ]
  },
  {
   "cell_type": "code",
   "execution_count": null,
   "metadata": {
    "ExecuteTime": {
     "end_time": "2020-08-27T09:56:39.022172Z",
     "start_time": "2020-08-27T09:56:38.988504Z"
    }
   },
   "outputs": [],
   "source": [
    "df = yr20.drop(columns = ['task', 'year'])"
   ]
  },
  {
   "cell_type": "code",
   "execution_count": null,
   "metadata": {
    "ExecuteTime": {
     "end_time": "2020-08-27T09:56:39.027256Z",
     "start_time": "2020-08-27T09:56:39.024639Z"
    }
   },
   "outputs": [],
   "source": [
    "#df = yr20.drop(columns= ['Unnamed: 0', 'full_path', 'round', 'solution', 'task', 'year'])"
   ]
  },
  {
   "cell_type": "code",
   "execution_count": null,
   "metadata": {
    "ExecuteTime": {
     "end_time": "2020-08-27T09:56:39.050889Z",
     "start_time": "2020-08-27T09:56:39.030100Z"
    }
   },
   "outputs": [],
   "source": [
    "import regex as re"
   ]
  },
  {
   "cell_type": "code",
   "execution_count": null,
   "metadata": {
    "ExecuteTime": {
     "end_time": "2020-08-27T09:56:39.055588Z",
     "start_time": "2020-08-27T09:56:39.053195Z"
    }
   },
   "outputs": [],
   "source": [
    "#df['lan'] = df['full_path'].apply(lambda x: x.split('.')[-1].lower())"
   ]
  },
  {
   "cell_type": "code",
   "execution_count": null,
   "metadata": {
    "ExecuteTime": {
     "end_time": "2020-08-27T09:56:39.150389Z",
     "start_time": "2020-08-27T09:56:39.061029Z"
    }
   },
   "outputs": [],
   "source": [
    "df = df[df.language.isin(['cpp', 'python', 'java'])]"
   ]
  },
  {
   "cell_type": "code",
   "execution_count": null,
   "metadata": {
    "ExecuteTime": {
     "end_time": "2020-08-27T09:56:39.507037Z",
     "start_time": "2020-08-27T09:56:39.155245Z"
    }
   },
   "outputs": [],
   "source": [
    "df['code_length'] = df['flines'].apply(lambda x: len(x))"
   ]
  },
  {
   "cell_type": "code",
   "execution_count": null,
   "metadata": {
    "ExecuteTime": {
     "end_time": "2020-08-27T09:56:41.796870Z",
     "start_time": "2020-08-27T09:56:39.509544Z"
    }
   },
   "outputs": [],
   "source": [
    "df['n_loops'] = df.flines.apply(lambda x: (x.count('for') + x.count('while')) / len(x) )"
   ]
  },
  {
   "cell_type": "code",
   "execution_count": null,
   "metadata": {
    "ExecuteTime": {
     "end_time": "2020-08-27T09:56:43.533357Z",
     "start_time": "2020-08-27T09:56:41.799516Z"
    }
   },
   "outputs": [],
   "source": [
    "df['n_imports'] = df.flines.apply(lambda x: (x.count('#include') + x.count('import')) / len(x) )"
   ]
  },
  {
   "cell_type": "code",
   "execution_count": null,
   "metadata": {
    "ExecuteTime": {
     "end_time": "2020-08-27T09:56:46.976138Z",
     "start_time": "2020-08-27T09:56:43.536270Z"
    }
   },
   "outputs": [],
   "source": [
    "df['n_contols'] = df.flines.apply(lambda x: (x.count('if') + x.count('else') + x.count('elif')) / len(x) )"
   ]
  },
  {
   "cell_type": "code",
   "execution_count": null,
   "metadata": {
    "ExecuteTime": {
     "end_time": "2020-08-27T09:56:53.094571Z",
     "start_time": "2020-08-27T09:56:46.978349Z"
    }
   },
   "outputs": [],
   "source": [
    "df['n_assigns'] = df.flines.apply(lambda x: (x.count('=') - x.count('==') - x.count('<=') - x.count('>=') - x.count('!=')) / len(x))"
   ]
  },
  {
   "cell_type": "code",
   "execution_count": null,
   "metadata": {
    "ExecuteTime": {
     "end_time": "2020-08-27T09:56:54.144169Z",
     "start_time": "2020-08-27T09:56:53.098079Z"
    }
   },
   "outputs": [],
   "source": [
    "df['n_asserts'] = df.flines.apply(lambda x: x.count('assert') / len(x))"
   ]
  },
  {
   "cell_type": "code",
   "execution_count": null,
   "metadata": {
    "ExecuteTime": {
     "end_time": "2020-08-27T09:56:55.286931Z",
     "start_time": "2020-08-27T09:56:54.146547Z"
    }
   },
   "outputs": [],
   "source": [
    "df['has_main'] = df.flines.apply(lambda x: min(x.count('main()'), 1))"
   ]
  },
  {
   "cell_type": "code",
   "execution_count": null,
   "metadata": {
    "ExecuteTime": {
     "end_time": "2020-08-27T09:56:56.701406Z",
     "start_time": "2020-08-27T09:56:55.289808Z"
    }
   },
   "outputs": [],
   "source": [
    "df['n_newlines'] = df.flines.apply(lambda x: x.count('\\n') / len(x))"
   ]
  },
  {
   "cell_type": "code",
   "execution_count": null,
   "metadata": {
    "ExecuteTime": {
     "end_time": "2020-08-27T09:56:58.975817Z",
     "start_time": "2020-08-27T09:56:56.704243Z"
    }
   },
   "outputs": [],
   "source": [
    "df['n_whitespace'] = df.flines.apply(lambda x: x.count(' ') / len(x))"
   ]
  },
  {
   "cell_type": "code",
   "execution_count": null,
   "metadata": {
    "ExecuteTime": {
     "end_time": "2020-08-27T09:56:58.984502Z",
     "start_time": "2020-08-27T09:56:58.978448Z"
    }
   },
   "outputs": [],
   "source": [
    "def count_comments(language, code):\n",
    "    if language == 'cpp':\n",
    "        return code.count('//') + code.count('/*') + code.count('*/')\n",
    "    if language == 'python':\n",
    "        return code.count('#') + code.count('\"\"\"')\n",
    "    if language == 'java':\n",
    "        return code.count('//') + code.count('/*') + code.count('*/') + code.count('/**') + code.count('/**')"
   ]
  },
  {
   "cell_type": "code",
   "execution_count": null,
   "metadata": {
    "ExecuteTime": {
     "end_time": "2020-08-27T09:57:24.287270Z",
     "start_time": "2020-08-27T09:56:58.987545Z"
    }
   },
   "outputs": [],
   "source": [
    "df['n_comments'] = df.apply(lambda x: count_comments(x['language'], x['flines']) / len(x), axis = 1)"
   ]
  },
  {
   "cell_type": "code",
   "execution_count": null,
   "metadata": {
    "ExecuteTime": {
     "end_time": "2020-08-27T09:57:44.845454Z",
     "start_time": "2020-08-27T09:57:24.289552Z"
    }
   },
   "outputs": [],
   "source": [
    "df['n_camelCase'] = df.flines.apply(lambda x: sum(1 for m in re.finditer(r'[a-z][A-Z]', x)) / len(x))"
   ]
  },
  {
   "cell_type": "code",
   "execution_count": null,
   "metadata": {
    "ExecuteTime": {
     "end_time": "2020-08-27T09:58:06.666563Z",
     "start_time": "2020-08-27T09:57:44.849630Z"
    }
   },
   "outputs": [],
   "source": [
    "df['n_lines'] = df.flines.apply(lambda x: sum(1 for m in re.finditer(r'[^#\\/]+', x)) / len(x))"
   ]
  },
  {
   "cell_type": "code",
   "execution_count": null,
   "metadata": {
    "ExecuteTime": {
     "end_time": "2020-08-27T09:58:11.137292Z",
     "start_time": "2020-08-27T09:58:06.668894Z"
    }
   },
   "outputs": [],
   "source": [
    "df['outputs'] = df.flines.apply(lambda x: (x.count('cout') + x.count('print(') + x.count('print ') + x.count('.print')) / len(x))"
   ]
  },
  {
   "cell_type": "code",
   "execution_count": null,
   "metadata": {
    "ExecuteTime": {
     "end_time": "2020-08-27T09:58:11.149613Z",
     "start_time": "2020-08-27T09:58:11.146692Z"
    }
   },
   "outputs": [],
   "source": [
    "#df['n_lines'] = df.flines.apply(lambda x: sum(1 for m in re.finditer(r'[\\n\\t].{1}[\\n\\t]', x)))\n"
   ]
  },
  {
   "cell_type": "code",
   "execution_count": null,
   "metadata": {
    "ExecuteTime": {
     "end_time": "2020-08-27T09:58:11.159393Z",
     "start_time": "2020-08-27T09:58:11.156717Z"
    }
   },
   "outputs": [],
   "source": [
    "#df['n_underscore'] = df.flines.apply(lambda x: x.count('_') / len(x))"
   ]
  },
  {
   "cell_type": "code",
   "execution_count": null,
   "metadata": {
    "ExecuteTime": {
     "end_time": "2020-08-27T09:58:21.562490Z",
     "start_time": "2020-08-27T09:58:11.162382Z"
    }
   },
   "outputs": [],
   "source": [
    "df['n_snakeCase'] = df.flines.apply(lambda x: sum(1 for m in re.finditer(r'[a-zA-Z]_[a-zA-Z]', x)) / len(x))"
   ]
  },
  {
   "cell_type": "markdown",
   "metadata": {
    "ExecuteTime": {
     "end_time": "2020-08-24T13:47:03.829337Z",
     "start_time": "2020-08-24T13:47:03.141434Z"
    }
   },
   "source": [
    "for idx in range(len(df.iloc[6].flines)):\n",
    "    if df.iloc[6].flines[idx] != df.iloc[7].flines[idx]:\n",
    "        print(str(idx) + ' ' + df.iloc[6].flines[idx] + df.iloc[7].flines[idx])"
   ]
  },
  {
   "cell_type": "code",
   "execution_count": null,
   "metadata": {
    "ExecuteTime": {
     "end_time": "2020-08-27T10:01:55.711277Z",
     "start_time": "2020-08-27T10:01:55.707633Z"
    }
   },
   "outputs": [],
   "source": [
    "#list(df[df.language == 'cpp'].username.value_counts().head(10).index)"
   ]
  },
  {
   "cell_type": "code",
   "execution_count": null,
   "metadata": {
    "ExecuteTime": {
     "end_time": "2020-08-27T10:07:58.065250Z",
     "start_time": "2020-08-27T10:07:57.964178Z"
    }
   },
   "outputs": [],
   "source": [
    "#df.username.value_counts()"
   ]
  },
  {
   "cell_type": "code",
   "execution_count": null,
   "metadata": {
    "ExecuteTime": {
     "end_time": "2020-08-27T10:08:32.570437Z",
     "start_time": "2020-08-27T10:08:32.228394Z"
    }
   },
   "outputs": [],
   "source": [
    "#data_iteration1 = df[df.language == 'cpp']\n",
    "#data_iteration1 = df[df.username.isin(['dzhulgakov', 'vepifanov'])]\n",
    "data_iteration1 = df[df.username.isin(list(df.username.value_counts().head(1154).index))]"
   ]
  },
  {
   "cell_type": "code",
   "execution_count": null,
   "metadata": {
    "ExecuteTime": {
     "end_time": "2020-08-27T10:08:39.152671Z",
     "start_time": "2020-08-27T10:08:39.149764Z"
    },
    "scrolled": true
   },
   "outputs": [],
   "source": [
    "#print(data_iteration1.loc[441962].flines)"
   ]
  },
  {
   "cell_type": "code",
   "execution_count": null,
   "metadata": {
    "ExecuteTime": {
     "end_time": "2020-08-27T10:08:39.159145Z",
     "start_time": "2020-08-27T10:08:39.156196Z"
    }
   },
   "outputs": [],
   "source": [
    "#data_iteration1.sort_values(by = 'code_length', ascending=False)"
   ]
  },
  {
   "cell_type": "code",
   "execution_count": null,
   "metadata": {},
   "outputs": [],
   "source": []
  },
  {
   "cell_type": "code",
   "execution_count": null,
   "metadata": {
    "ExecuteTime": {
     "end_time": "2020-08-27T10:08:39.608725Z",
     "start_time": "2020-08-27T10:08:39.162680Z"
    }
   },
   "outputs": [],
   "source": [
    "data_iteration1['user'] = data_iteration1.username.apply(lambda x: 1 if x == 'dzhulgakov' else 0)"
   ]
  },
  {
   "cell_type": "code",
   "execution_count": null,
   "metadata": {
    "ExecuteTime": {
     "end_time": "2020-08-27T10:08:39.714741Z",
     "start_time": "2020-08-27T10:08:39.613200Z"
    }
   },
   "outputs": [],
   "source": [
    "data_iteration1"
   ]
  },
  {
   "cell_type": "code",
   "execution_count": null,
   "metadata": {
    "ExecuteTime": {
     "end_time": "2020-08-27T10:08:39.734281Z",
     "start_time": "2020-08-27T10:08:39.718730Z"
    }
   },
   "outputs": [],
   "source": [
    "X = data_iteration1.drop(columns = ['flines', 'username', 'language'])\n",
    "\n",
    "\n",
    "y = data_iteration1.username"
   ]
  },
  {
   "cell_type": "code",
   "execution_count": null,
   "metadata": {
    "ExecuteTime": {
     "end_time": "2020-08-27T10:08:39.746715Z",
     "start_time": "2020-08-27T10:08:39.737911Z"
    }
   },
   "outputs": [],
   "source": [
    "from sklearn.model_selection import train_test_split\n",
    "from sklearn.preprocessing import RobustScaler\n",
    "from sklearn.pipeline import make_pipeline\n",
    "from sklearn.linear_model import LogisticRegression\n",
    "from sklearn.compose import ColumnTransformer\n",
    "from sklearn.multiclass import OneVsOneClassifier"
   ]
  },
  {
   "cell_type": "code",
   "execution_count": null,
   "metadata": {
    "ExecuteTime": {
     "end_time": "2020-08-27T10:10:44.272827Z",
     "start_time": "2020-08-27T10:08:39.750629Z"
    }
   },
   "outputs": [],
   "source": [
    "import seaborn as sns\n",
    "sns.pairplot(X)"
   ]
  },
  {
   "cell_type": "code",
   "execution_count": null,
   "metadata": {
    "ExecuteTime": {
     "end_time": "2020-08-27T10:10:44.277507Z",
     "start_time": "2020-08-27T10:10:44.275289Z"
    }
   },
   "outputs": [],
   "source": [
    "#X.user.value_counts()"
   ]
  },
  {
   "cell_type": "code",
   "execution_count": null,
   "metadata": {
    "ExecuteTime": {
     "end_time": "2020-08-27T10:10:44.282089Z",
     "start_time": "2020-08-27T10:10:44.279854Z"
    }
   },
   "outputs": [],
   "source": [
    "#X = X.drop(columns = 'user')"
   ]
  },
  {
   "cell_type": "code",
   "execution_count": null,
   "metadata": {},
   "outputs": [],
   "source": []
  },
  {
   "cell_type": "code",
   "execution_count": null,
   "metadata": {
    "ExecuteTime": {
     "end_time": "2020-08-27T10:10:44.290959Z",
     "start_time": "2020-08-27T10:10:44.286333Z"
    }
   },
   "outputs": [],
   "source": [
    "X.columns"
   ]
  },
  {
   "cell_type": "code",
   "execution_count": null,
   "metadata": {
    "ExecuteTime": {
     "end_time": "2020-08-27T10:10:44.298739Z",
     "start_time": "2020-08-27T10:10:44.294993Z"
    }
   },
   "outputs": [],
   "source": [
    "cl = ColumnTransformer([('scaler', RobustScaler(), ['code_length', 'n_loops', 'n_imports', 'n_contols', 'n_assigns',\n",
    "       'n_asserts', 'n_newlines', 'n_whitespace', 'n_comments',\n",
    "       'n_camelCase', 'n_lines', 'outputs', 'n_snakeCase'])])"
   ]
  },
  {
   "cell_type": "code",
   "execution_count": null,
   "metadata": {
    "ExecuteTime": {
     "end_time": "2020-08-27T10:10:44.304096Z",
     "start_time": "2020-08-27T10:10:44.301212Z"
    }
   },
   "outputs": [],
   "source": [
    "est = OneVsOneClassifier(LogisticRegression())"
   ]
  },
  {
   "cell_type": "code",
   "execution_count": null,
   "metadata": {
    "ExecuteTime": {
     "end_time": "2020-08-27T10:10:44.309965Z",
     "start_time": "2020-08-27T10:10:44.306949Z"
    }
   },
   "outputs": [],
   "source": [
    "pipe = make_pipeline(cl, est)"
   ]
  },
  {
   "cell_type": "code",
   "execution_count": null,
   "metadata": {
    "ExecuteTime": {
     "end_time": "2020-08-27T10:10:44.340494Z",
     "start_time": "2020-08-27T10:10:44.312702Z"
    }
   },
   "outputs": [],
   "source": [
    "X_train, X_test, y_train, y_test = train_test_split(X,y)"
   ]
  },
  {
   "cell_type": "code",
   "execution_count": null,
   "metadata": {
    "ExecuteTime": {
     "end_time": "2020-08-27T12:37:05.915722Z",
     "start_time": "2020-08-27T10:10:44.342949Z"
    }
   },
   "outputs": [],
   "source": [
    "from sklearn.model_selection import cross_val_score\n",
    "\n",
    "cv_score = cross_val_score(pipe, X, y, cv = 10, n_jobs = -1, verbose = 1)"
   ]
  },
  {
   "cell_type": "code",
   "execution_count": null,
   "metadata": {
    "ExecuteTime": {
     "end_time": "2020-08-27T12:37:06.043626Z",
     "start_time": "2020-08-27T10:08:39.203Z"
    }
   },
   "outputs": [],
   "source": [
    "cv_score.mean()"
   ]
  },
  {
   "cell_type": "code",
   "execution_count": null,
   "metadata": {
    "ExecuteTime": {
     "end_time": "2020-08-27T13:06:36.897871Z",
     "start_time": "2020-08-27T12:37:13.543283Z"
    }
   },
   "outputs": [],
   "source": [
    "pipe.fit(pd.DataFrame(X_train, columns=X.columns), y_train)"
   ]
  },
  {
   "cell_type": "code",
   "execution_count": null,
   "metadata": {
    "ExecuteTime": {
     "end_time": "2020-08-27T12:37:06.061738Z",
     "start_time": "2020-08-27T10:08:39.222Z"
    }
   },
   "outputs": [],
   "source": [
    "pipe.score(X_test, y_test)"
   ]
  },
  {
   "cell_type": "code",
   "execution_count": null,
   "metadata": {},
   "outputs": [],
   "source": []
  },
  {
   "cell_type": "code",
   "execution_count": null,
   "metadata": {
    "ExecuteTime": {
     "end_time": "2020-08-27T12:37:06.066599Z",
     "start_time": "2020-08-27T10:08:39.228Z"
    }
   },
   "outputs": [],
   "source": [
    "y_pred = pipe.predict(X_test)"
   ]
  },
  {
   "cell_type": "code",
   "execution_count": null,
   "metadata": {
    "ExecuteTime": {
     "end_time": "2020-08-27T12:37:06.070328Z",
     "start_time": "2020-08-27T10:08:39.230Z"
    }
   },
   "outputs": [],
   "source": [
    "from sklearn.metrics import classification_report, confusion_matrix"
   ]
  },
  {
   "cell_type": "code",
   "execution_count": null,
   "metadata": {
    "ExecuteTime": {
     "end_time": "2020-08-27T12:37:06.074814Z",
     "start_time": "2020-08-27T10:08:39.233Z"
    }
   },
   "outputs": [],
   "source": [
    "print(classification_report(y_test, y_pred))"
   ]
  },
  {
   "cell_type": "code",
   "execution_count": null,
   "metadata": {
    "ExecuteTime": {
     "end_time": "2020-08-27T12:37:06.080538Z",
     "start_time": "2020-08-27T10:08:39.236Z"
    }
   },
   "outputs": [],
   "source": [
    "print(confusion_matrix(y_test, y_pred))"
   ]
  },
  {
   "cell_type": "code",
   "execution_count": null,
   "metadata": {
    "ExecuteTime": {
     "end_time": "2020-08-27T12:37:06.084188Z",
     "start_time": "2020-08-27T10:08:39.240Z"
    }
   },
   "outputs": [],
   "source": [
    "pipe.steps[1][1].estimators_"
   ]
  },
  {
   "cell_type": "code",
   "execution_count": null,
   "metadata": {
    "ExecuteTime": {
     "end_time": "2020-08-27T12:37:06.091830Z",
     "start_time": "2020-08-27T10:08:39.248Z"
    }
   },
   "outputs": [],
   "source": [
    "df[df.username.isin(['dzhulgakov', 'vepifanov'])].sort_values(by = 'username')"
   ]
  },
  {
   "cell_type": "markdown",
   "metadata": {},
   "source": [
    "Cluster that shit"
   ]
  },
  {
   "cell_type": "code",
   "execution_count": null,
   "metadata": {
    "ExecuteTime": {
     "end_time": "2020-08-27T12:37:06.096146Z",
     "start_time": "2020-08-27T10:08:39.251Z"
    }
   },
   "outputs": [],
   "source": [
    "from sklearn.cluster import k_means"
   ]
  },
  {
   "cell_type": "code",
   "execution_count": null,
   "metadata": {
    "ExecuteTime": {
     "end_time": "2020-08-27T12:37:06.100802Z",
     "start_time": "2020-08-27T10:08:39.255Z"
    }
   },
   "outputs": [],
   "source": [
    "model = k_means(X, n_clusters = 10)"
   ]
  },
  {
   "cell_type": "code",
   "execution_count": null,
   "metadata": {},
   "outputs": [],
   "source": []
  },
  {
   "cell_type": "code",
   "execution_count": null,
   "metadata": {
    "ExecuteTime": {
     "end_time": "2020-08-27T12:37:06.108857Z",
     "start_time": "2020-08-27T10:08:39.262Z"
    }
   },
   "outputs": [],
   "source": [
    "pd.DataFrame(model[1], data_iteration1.username).sort_index()"
   ]
  },
  {
   "cell_type": "code",
   "execution_count": null,
   "metadata": {},
   "outputs": [],
   "source": []
  }
 ],
 "metadata": {
  "kernelspec": {
   "display_name": "Python 3",
   "language": "python",
   "name": "python3"
  },
  "language_info": {
   "codemirror_mode": {
    "name": "ipython",
    "version": 3
   },
   "file_extension": ".py",
   "mimetype": "text/x-python",
   "name": "python",
   "nbconvert_exporter": "python",
   "pygments_lexer": "ipython3",
   "version": "3.7.7"
  },
  "toc": {
   "base_numbering": 1,
   "nav_menu": {},
   "number_sections": true,
   "sideBar": true,
   "skip_h1_title": false,
   "title_cell": "Table of Contents",
   "title_sidebar": "Contents",
   "toc_cell": false,
   "toc_position": {},
   "toc_section_display": true,
   "toc_window_display": false
  },
  "varInspector": {
   "cols": {
    "lenName": 16,
    "lenType": 16,
    "lenVar": 40
   },
   "kernels_config": {
    "python": {
     "delete_cmd_postfix": "",
     "delete_cmd_prefix": "del ",
     "library": "var_list.py",
     "varRefreshCmd": "print(var_dic_list())"
    },
    "r": {
     "delete_cmd_postfix": ") ",
     "delete_cmd_prefix": "rm(",
     "library": "var_list.r",
     "varRefreshCmd": "cat(var_dic_list()) "
    }
   },
   "oldHeight": 122.85,
   "position": {
    "height": "40px",
    "left": "1170px",
    "right": "20px",
    "top": "120px",
    "width": "250px"
   },
   "types_to_exclude": [
    "module",
    "function",
    "builtin_function_or_method",
    "instance",
    "_Feature"
   ],
   "varInspector_section_display": "none",
   "window_display": true
  }
 },
 "nbformat": 4,
 "nbformat_minor": 4
}
